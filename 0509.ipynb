{
  "nbformat": 4,
  "nbformat_minor": 0,
  "metadata": {
    "colab": {
      "name": "0509.ipynb",
      "provenance": [],
      "authorship_tag": "ABX9TyPmrH4s3KZGbgG0vVW+UF1D",
      "include_colab_link": true
    },
    "kernelspec": {
      "name": "python3",
      "display_name": "Python 3"
    },
    "language_info": {
      "name": "python"
    }
  },
  "cells": [
    {
      "cell_type": "markdown",
      "metadata": {
        "id": "view-in-github",
        "colab_type": "text"
      },
      "source": [
        "<a href=\"https://colab.research.google.com/github/Yvonne920102/Introduction-to-computers/blob/main/0509.ipynb\" target=\"_parent\"><img src=\"https://colab.research.google.com/assets/colab-badge.svg\" alt=\"Open In Colab\"/></a>"
      ]
    },
    {
      "cell_type": "code",
      "execution_count": 11,
      "metadata": {
        "colab": {
          "base_uri": "https://localhost:8080/"
        },
        "id": "765XPcZ777yB",
        "outputId": "390f8126-2e3b-4f4f-bf9b-9d57271f2f90"
      },
      "outputs": [
        {
          "output_type": "stream",
          "name": "stdout",
          "text": [
            "請輸入你的體溫36\n",
            "體溫正常\n"
          ]
        }
      ],
      "source": [
        "t=float(input(\"請輸入你的體溫\"))\n",
        "if t>=37.5:\n",
        "  print(\"體溫過高\")\n",
        "elif t>=37 and t<37.4:\n",
        "  print(\"體溫略高!\")\n",
        "elif t>=34 and t<=36.9:\n",
        "  print(\"體溫正常\")\n",
        "else :\n",
        "  print(\"體溫異常，請重新量測\")"
      ]
    },
    {
      "cell_type": "code",
      "source": [
        "s=int(input(\"請輸入成績\"))\n",
        "if s>=90:\n",
        "  print(\"A\")\n",
        "elif s>=80 and s<90:\n",
        "  print(\"B\")\n",
        "elif s>=70 and s<80:\n",
        "  print(\"C\")\n",
        "elif s>=60 and s<70:\n",
        "  print(\"D\")\n",
        "else:\n",
        "  print(\"E\")"
      ],
      "metadata": {
        "colab": {
          "base_uri": "https://localhost:8080/"
        },
        "id": "3WCy-Fk2_h09",
        "outputId": "0004fe92-19b6-44f4-9052-93c9e25a95fb"
      },
      "execution_count": 17,
      "outputs": [
        {
          "output_type": "stream",
          "name": "stdout",
          "text": [
            "請輸入成績55\n",
            "E\n"
          ]
        }
      ]
    },
    {
      "cell_type": "code",
      "source": [
        "m=int(input(\"請輸入購物金額\"))\n",
        "if (m>=10000):\n",
        "  if (m>=100000):\n",
        "    print(\"八折\",m*0.8,end=\"元\\n\")\n",
        "  elif(m>=50000):\n",
        "    print(\"八五折\",m*0.85,end=\"元\\n\")\n",
        "  elif(m>=30000):\n",
        "    print(\"九折\",m*0.9,end=\"元\\n\")\n",
        "  elif(m>=10000):\n",
        "    print(\"九五折\",m*0.95,end=\"元\\n\")\n",
        "else:\n",
        "  print(\"沒打折\",m,end=\"元\\n\")"
      ],
      "metadata": {
        "colab": {
          "base_uri": "https://localhost:8080/"
        },
        "id": "yJldDbhrE9eC",
        "outputId": "6bef5be1-033b-410a-d5e5-0655b37d9eeb"
      },
      "execution_count": 18,
      "outputs": [
        {
          "output_type": "stream",
          "name": "stdout",
          "text": [
            "請輸入購物金額1200000\n",
            "八折 960000.0元\n"
          ]
        }
      ]
    },
    {
      "cell_type": "code",
      "source": [
        "m=int(input(\"請輸入月份\"))\n",
        "if m>=3 and m<=5:\n",
        "  print(m,\"月是春天\")\n",
        "elif m>=6 and m<=8:\n",
        "  print(m,\"月是夏天\")\n",
        "elif m>=9 and m<=11:\n",
        "  print(m,\"月是秋天\")\n",
        "elif m==12 or m>=1 and m<=2:\n",
        "  print(m,\"月是冬天\")\n",
        "else:\n",
        "  print(\"月份不再範圍內\")"
      ],
      "metadata": {
        "colab": {
          "base_uri": "https://localhost:8080/"
        },
        "id": "Usuyr6cLIO1D",
        "outputId": "0ec69717-5fbc-4b61-ce18-16de0e37869b"
      },
      "execution_count": 42,
      "outputs": [
        {
          "output_type": "stream",
          "name": "stdout",
          "text": [
            "請輸入月份12\n",
            "12 月是冬天\n"
          ]
        }
      ]
    },
    {
      "cell_type": "code",
      "source": [
        "t=int(input(\"請輸入今年收入淨額\"))\n",
        "if t>=2000000:\n",
        "  print(\"付稅金額\",t*0.3,end=\"元\\n\")\n",
        "elif t>=1000000:\n",
        "  print(\"付稅金額\",t*0.21,end=\"元\\n\")\n",
        "elif t>=600000:\n",
        "  print(\"付稅金額\",t*0.13,end=\"元\\n\")\n",
        "elif t>=300000:\n",
        "  print(\"付稅金額\",t*0.06,end=\"元\\n\")\n",
        "else:\n",
        "  print(\"付稅金額0元\")"
      ],
      "metadata": {
        "colab": {
          "base_uri": "https://localhost:8080/"
        },
        "id": "X1cb521RKQg1",
        "outputId": "0dff2229-e56a-451f-ee55-0163b26ad740"
      },
      "execution_count": 45,
      "outputs": [
        {
          "output_type": "stream",
          "name": "stdout",
          "text": [
            "請輸入今年收入淨額2000000\n",
            "付稅金額 600000.0元\n"
          ]
        }
      ]
    }
  ]
}